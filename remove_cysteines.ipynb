{
  "cells": [
    {
      "cell_type": "markdown",
      "metadata": {
        "id": "ZzfwGshjDDfT"
      },
      "source": [
        "<a href=\"https://colab.research.google.com/github/ckinzthompson/removecysteines/blob/main/remove_cysteines.ipynb\" target=\"_parent\"><img src=\"https://colab.research.google.com/assets/colab-badge.svg\" alt=\"Open In Colab\"/></a>"
      ]
    },
    {
      "cell_type": "markdown",
      "metadata": {
        "id": "Q8hKKXREDJ8D"
      },
      "source": [
        "## RemoveCysteines v0.1.4: Use ESM2 to remove cysteines from protein sequences\n",
        "\n",
        "[Evolutionary Scale Modeling (ESM)](https://github.com/facebookresearch/esm) is a masked-large language model trained on protein sequences. The science is described in [Lin et al.](https://www.science.org/doi/10.1126/science.ade2574). Because ESM has information containing sequence conservation, we've used it here to design cys-less variants of proteins that should (ideally) maintain function. Previously, researchers would manually create a multiple sequence alignment showing the conservation of the cysteines in the wild type sequence, and then pick other amino acids that are represented at those positions.\n",
        "\n",
        "Our approach using ESM uses the following steps:\n",
        "1. Find the second-best mutation to make (i.e., whichever 'looks' most like a cysteine)\n",
        "2. Make all possible point mutations, and select the best (i.e., whichever makes the entire sequence look most like a real protein)\n",
        "3. Repeat step 2 until the sequence is optimized.\n",
        "\n"
      ]
    },
    {
      "cell_type": "code",
      "execution_count": 9,
      "metadata": {
        "cellView": "form",
        "colab": {
          "base_uri": "https://localhost:8080/",
          "height": 298,
          "referenced_widgets": [
            "0c9b0aa96d1c4f16968e0364ce9643a5",
            "fa4d813b3f724ff4a25dfb3ccebf8e44",
            "6e399baada9041439b45f52ecc46579b",
            "645348d3b82c45d7b11208d47c3fa96d",
            "fbc9ddb81c5b47da86d533eeb650bf60",
            "203f0816c90e4027a3fe0caf0129e7ad",
            "2ee76e309b7646be89eee9558f113364",
            "e7c9d4c97b6b439d9bea2b79e0eccd81",
            "c53ffc68d1554cf7b224d0ec6d34964f",
            "a856b2babb7e4ffda877135222f0c361",
            "5b552af60f7f46ddbcb06297a2044a36",
            "48e726a3e4da45cb9e71cf538ac60e91",
            "691a562eaffd4bdca3ce89230e395e34",
            "1923f80e437246f48bd2778ce246c0e1",
            "0233870742d84dd890431ff40168c315",
            "c657e2b7e0ae44778522889108eb5b32",
            "6ae81dcd7a434156b575723be7bd35a0",
            "8182256a6d41487993e7a08e2846f359",
            "0f585e27bb274f48b85df78db4be1cf9",
            "81f4dee035c24985b5997f9f0f3c0752",
            "bf7cc2672eb5405a998100bd7924311e"
          ]
        },
        "id": "yluTa4yQ_d8V",
        "outputId": "520d1358-cebc-42a3-d6a5-cede444b2051"
      },
      "outputs": [
        {
          "data": {
            "application/vnd.jupyter.widget-view+json": {
              "model_id": "77c2cdf070e544bab8b2290486a2bb28",
              "version_major": 2,
              "version_minor": 0
            },
            "text/plain": [
              "Label(value='Wild-type Sequence:')"
            ]
          },
          "metadata": {},
          "output_type": "display_data"
        },
        {
          "data": {
            "application/vnd.jupyter.widget-view+json": {
              "model_id": "b76b66ccb1d145eab1aff54f12d62ca9",
              "version_major": 2,
              "version_minor": 0
            },
            "text/plain": [
              "Textarea(value='', layout=Layout(height='1in', width='80%'), placeholder='Enter amino acid sequence here....',…"
            ]
          },
          "metadata": {},
          "output_type": "display_data"
        },
        {
          "data": {
            "application/vnd.jupyter.widget-view+json": {
              "model_id": "7653b32ddd14442384484462178cfcf7",
              "version_major": 2,
              "version_minor": 0
            },
            "text/plain": [
              "Dropdown(description='ESM2 model:', index=3, options=('esm2_t6_8M_UR50D', 'esm2_t12_35M_UR50D', 'esm2_t30_150M…"
            ]
          },
          "metadata": {},
          "output_type": "display_data"
        },
        {
          "data": {
            "application/vnd.jupyter.widget-view+json": {
              "model_id": "851be4bb7037409b9d74ec6bb1748352",
              "version_major": 2,
              "version_minor": 0
            },
            "text/plain": [
              "Dropdown(description='Device:', options=('mps', 'cpu'), style=DescriptionStyle(description_width='initial'), v…"
            ]
          },
          "metadata": {},
          "output_type": "display_data"
        },
        {
          "data": {
            "application/vnd.jupyter.widget-view+json": {
              "model_id": "e743629bc75549658698582183e14e5d",
              "version_major": 2,
              "version_minor": 0
            },
            "text/plain": [
              "IntText(value=20, description='Maximum number of polishing steps:', style=DescriptionStyle(description_width='…"
            ]
          },
          "metadata": {},
          "output_type": "display_data"
        },
        {
          "data": {
            "application/vnd.jupyter.widget-view+json": {
              "model_id": "6e69ce9478584857be0cec4fe5c97c6c",
              "version_major": 2,
              "version_minor": 0
            },
            "text/plain": [
              "Checkbox(value=True, description='Show PCA?', style=CheckboxStyle(description_width='initial'))"
            ]
          },
          "metadata": {},
          "output_type": "display_data"
        },
        {
          "data": {
            "application/vnd.jupyter.widget-view+json": {
              "model_id": "1d51c13d5de24d1bb8fc6d79dfa6863f",
              "version_major": 2,
              "version_minor": 0
            },
            "text/plain": [
              "Button(description='Run Optimization', style=ButtonStyle())"
            ]
          },
          "metadata": {},
          "output_type": "display_data"
        },
        {
          "name": "stdout",
          "output_type": "stream",
          "text": [
            "ESM: esm2_t33_650M_UR50D\n",
            "Using Device: mps\n",
            "----------\n",
            "WT Sequence: MSKGEELIKENMRMKVVMEGSVNGHQFKCTGEGEGRPYEGVQVMRIKVIEGGPLPFAFDILATSFMYGSRTFIKYPADIPDFFKQSFPEGFTWERVTRYEDGGVVTVTQDTSLEDGELVYNVKVRGVNFPSNGPVMQKKTKGWEPNTEMMYPADGGLRGYTDIALKVDGGGHLHCNFVTTYRSKKTVGNIKMPGVHAVDHRLERIEESDNETYVVQREVAVAKYSNLGGGMDELYK\n",
            "WT Perplexity: 42.6591987609863281\n",
            "Length: 236\n",
            "Num. Cys: 2\n",
            "Cys locations: 29 175\n",
            "\n",
            "---------- Optimization ----------\n",
            "1. Initial MUT perplexity: 43.09578323\n",
            "\tC29V\n",
            "\tC175G\n",
            "2.1 Polish, MUT perplexity 44.55866241, 4.832 sec, C29R\n",
            "2.2 Polish, MUT perplexity 44.55866241, 4.604 sec, <no better change>\n",
            "\n",
            "---------- Final ----------\n",
            "MUT Sequence: MSKGEELIKENMRMKVVMEGSVNGHQFKRTGEGEGRPYEGVQVMRIKVIEGGPLPFAFDILATSFMYGSRTFIKYPADIPDFFKQSFPEGFTWERVTRYEDGGVVTVTQDTSLEDGELVYNVKVRGVNFPSNGPVMQKKTKGWEPNTEMMYPADGGLRGYTDIALKVDGGGHLHGNFVTTYRSKKTVGNIKMPGVHAVDHRLERIEESDNETYVVQREVAVAKYSNLGGGMDELYK\n",
            "MUT Perplexity: 44.55866241\n",
            "Mutations:\n",
            "\tC29R\n",
            "\tC175G\n"
          ]
        },
        {
          "data": {
            "image/png": "[encoded data removed]",
            "text/plain": [
              "<Figure size 640x480 with 1 Axes>"
            ]
          },
          "metadata": {},
          "output_type": "display_data"
        }
      ],
      "source": [
        "#@title Run this cell to setup interface\n",
        "\n",
        "import os\n",
        "import sys\n",
        "import torch\n",
        "import ipywidgets as widgets\n",
        "\n",
        "try:\n",
        "\timport esm\n",
        "except:\n",
        "\tos.system('pip install fair-esm')\n",
        "\timport esm\n",
        "\n",
        "fdir = '/content' ## assume we're on google colab\n",
        "if not os.path.exists('/content'): ## we're not on google colab\n",
        "\tfdir = './' ## go local\n",
        "\n",
        "## Download remove_cysteines code\n",
        "if not os.path.exists(os.path.join(fdir,'remove_cysteines.py')):\n",
        "\t!wget https://raw.githubusercontent.com/ckinzthompson/removecysteines/main/remove_cysteines.py -P /content\n",
        "\n",
        "sys.path.append(fdir)\n",
        "from remove_cysteines import main\n",
        "\n",
        "ESM_models = [\"esm2_t6_8M_UR50D\", \"esm2_t12_35M_UR50D\", \"esm2_t30_150M_UR50D\", \"esm2_t33_650M_UR50D\", \"esm2_t36_3B_UR50D\", \"esm2_t48_15B_UR50D\"]\n",
        "\n",
        "devices = []\n",
        "if torch.cuda.is_available():\n",
        "  devices.append('cuda')\n",
        "if torch.backends.mps.is_available():\n",
        "  devices.append('mps')\n",
        "devices.append('cpu')\n",
        "\n",
        "param_wt_sequence = widgets.Textarea(placeholder='Enter amino acid sequence here....', description='', layout=widgets.Layout(width='80%',height='1in'), style={'description_width':'initial'})\n",
        "param_ESM_model_name = widgets.Dropdown(options=ESM_models, description='ESM2 model:', value='esm2_t33_650M_UR50D', style={'description_width':'initial'})\n",
        "param_device = widgets.Dropdown(options=devices, description='Device:',style={'description_width':'initial'})\n",
        "param_show_pca = widgets.Checkbox(value=True, description='Show PCA?',style={'description_width':'initial'})\n",
        "param_n_rounds = widgets.IntText(value=20, description='Maximum number of polishing steps:',style={'description_width':'initial'})\n",
        "\n",
        "display(widgets.Label(value='Wild-type Sequence:'))\n",
        "display(param_wt_sequence)\n",
        "display(param_ESM_model_name)\n",
        "display(param_device)\n",
        "display(param_n_rounds)\n",
        "display(param_show_pca)\n",
        "\n",
        "run_button = widgets.Button(description=\"Run Optimization\")\n",
        "def button_click(b):\n",
        "\t### Parse input widget values\n",
        "\twt_sequence = param_wt_sequence.value\n",
        "\tESM_model_name = param_ESM_model_name.value\n",
        "\tdevice = param_device.value\n",
        "\tn_rounds = param_n_rounds.value\n",
        "\tshow_pca = param_show_pca.value\n",
        "\tmain(wt_sequence,ESM_model_name,device,n_rounds,show_pca)\n",
        "run_button.on_click(button_click)\n",
        "\n",
        "display(run_button)"
      ]
    }
  ],
  "metadata": {
    "accelerator": "GPU",
    "colab": {
      "gpuType": "T4",
      "provenance": []
    },
    "kernelspec": {
      "display_name": "Python 3",
      "name": "python3"
    },
    "language_info": {
      "codemirror_mode": {
        "name": "ipython",
        "version": 3
      },
      "file_extension": ".py",
      "mimetype": "text/x-python",
      "name": "python",
      "nbconvert_exporter": "python",
      "pygments_lexer": "ipython3",
      "version": "3.9.0"
    },
    "widgets": {
      "application/vnd.jupyter.widget-state+json": {
        "0233870742d84dd890431ff40168c315": {
          "model_module": "@jupyter-widgets/controls",
          "model_module_version": "1.5.0",
          "model_name": "DescriptionStyleModel",
          "state": {
            "_model_module": "@jupyter-widgets/controls",
            "_model_module_version": "1.5.0",
            "_model_name": "DescriptionStyleModel",
            "_view_count": null,
            "_view_module": "@jupyter-widgets/base",
            "_view_module_version": "1.2.0",
            "_view_name": "StyleView",
            "description_width": "initial"
          }
        },
        "0c9b0aa96d1c4f16968e0364ce9643a5": {
          "model_module": "@jupyter-widgets/controls",
          "model_module_version": "1.5.0",
          "model_name": "LabelModel",
          "state": {
            "_dom_classes": [],
            "_model_module": "@jupyter-widgets/controls",
            "_model_module_version": "1.5.0",
            "_model_name": "LabelModel",
            "_view_count": null,
            "_view_module": "@jupyter-widgets/controls",
            "_view_module_version": "1.5.0",
            "_view_name": "LabelView",
            "description": "",
            "description_tooltip": null,
            "layout": "IPY_MODEL_fa4d813b3f724ff4a25dfb3ccebf8e44",
            "placeholder": "​",
            "style": "IPY_MODEL_6e399baada9041439b45f52ecc46579b",
            "value": "Wild-type Sequence:"
          }
        },
        "0f585e27bb274f48b85df78db4be1cf9": {
          "model_module": "@jupyter-widgets/controls",
          "model_module_version": "1.5.0",
          "model_name": "CheckboxModel",
          "state": {
            "_dom_classes": [],
            "_model_module": "@jupyter-widgets/controls",
            "_model_module_version": "1.5.0",
            "_model_name": "CheckboxModel",
            "_view_count": null,
            "_view_module": "@jupyter-widgets/controls",
            "_view_module_version": "1.5.0",
            "_view_name": "CheckboxView",
            "description": "Batch embedding?",
            "description_tooltip": null,
            "disabled": false,
            "indent": true,
            "layout": "IPY_MODEL_81f4dee035c24985b5997f9f0f3c0752",
            "style": "IPY_MODEL_bf7cc2672eb5405a998100bd7924311e",
            "value": true
          }
        },
        "1923f80e437246f48bd2778ce246c0e1": {
          "model_module": "@jupyter-widgets/base",
          "model_module_version": "1.2.0",
          "model_name": "LayoutModel",
          "state": {
            "_model_module": "@jupyter-widgets/base",
            "_model_module_version": "1.2.0",
            "_model_name": "LayoutModel",
            "_view_count": null,
            "_view_module": "@jupyter-widgets/base",
            "_view_module_version": "1.2.0",
            "_view_name": "LayoutView",
            "align_content": null,
            "align_items": null,
            "align_self": null,
            "border": null,
            "bottom": null,
            "display": null,
            "flex": null,
            "flex_flow": null,
            "grid_area": null,
            "grid_auto_columns": null,
            "grid_auto_flow": null,
            "grid_auto_rows": null,
            "grid_column": null,
            "grid_gap": null,
            "grid_row": null,
            "grid_template_areas": null,
            "grid_template_columns": null,
            "grid_template_rows": null,
            "height": null,
            "justify_content": null,
            "justify_items": null,
            "left": null,
            "margin": null,
            "max_height": null,
            "max_width": null,
            "min_height": null,
            "min_width": null,
            "object_fit": null,
            "object_position": null,
            "order": null,
            "overflow": null,
            "overflow_x": null,
            "overflow_y": null,
            "padding": null,
            "right": null,
            "top": null,
            "visibility": null,
            "width": null
          }
        },
        "203f0816c90e4027a3fe0caf0129e7ad": {
          "model_module": "@jupyter-widgets/controls",
          "model_module_version": "1.5.0",
          "model_name": "DescriptionStyleModel",
          "state": {
            "_model_module": "@jupyter-widgets/controls",
            "_model_module_version": "1.5.0",
            "_model_name": "DescriptionStyleModel",
            "_view_count": null,
            "_view_module": "@jupyter-widgets/base",
            "_view_module_version": "1.2.0",
            "_view_name": "StyleView",
            "description_width": "initial"
          }
        },
        "2ee76e309b7646be89eee9558f113364": {
          "model_module": "@jupyter-widgets/controls",
          "model_module_version": "1.5.0",
          "model_name": "DropdownModel",
          "state": {
            "_dom_classes": [],
            "_model_module": "@jupyter-widgets/controls",
            "_model_module_version": "1.5.0",
            "_model_name": "DropdownModel",
            "_options_labels": [
              "esm2_t6_8M_UR50D",
              "esm2_t12_35M_UR50D",
              "esm2_t30_150M_UR50D",
              "esm2_t33_650M_UR50D",
              "esm2_t36_3B_UR50D",
              "esm2_t48_15B_UR50D"
            ],
            "_view_count": null,
            "_view_module": "@jupyter-widgets/controls",
            "_view_module_version": "1.5.0",
            "_view_name": "DropdownView",
            "description": "ESM2 model:",
            "description_tooltip": null,
            "disabled": false,
            "index": 3,
            "layout": "IPY_MODEL_e7c9d4c97b6b439d9bea2b79e0eccd81",
            "style": "IPY_MODEL_c53ffc68d1554cf7b224d0ec6d34964f"
          }
        },
        "48e726a3e4da45cb9e71cf538ac60e91": {
          "model_module": "@jupyter-widgets/controls",
          "model_module_version": "1.5.0",
          "model_name": "DescriptionStyleModel",
          "state": {
            "_model_module": "@jupyter-widgets/controls",
            "_model_module_version": "1.5.0",
            "_model_name": "DescriptionStyleModel",
            "_view_count": null,
            "_view_module": "@jupyter-widgets/base",
            "_view_module_version": "1.2.0",
            "_view_name": "StyleView",
            "description_width": "initial"
          }
        },
        "5b552af60f7f46ddbcb06297a2044a36": {
          "model_module": "@jupyter-widgets/base",
          "model_module_version": "1.2.0",
          "model_name": "LayoutModel",
          "state": {
            "_model_module": "@jupyter-widgets/base",
            "_model_module_version": "1.2.0",
            "_model_name": "LayoutModel",
            "_view_count": null,
            "_view_module": "@jupyter-widgets/base",
            "_view_module_version": "1.2.0",
            "_view_name": "LayoutView",
            "align_content": null,
            "align_items": null,
            "align_self": null,
            "border": null,
            "bottom": null,
            "display": null,
            "flex": null,
            "flex_flow": null,
            "grid_area": null,
            "grid_auto_columns": null,
            "grid_auto_flow": null,
            "grid_auto_rows": null,
            "grid_column": null,
            "grid_gap": null,
            "grid_row": null,
            "grid_template_areas": null,
            "grid_template_columns": null,
            "grid_template_rows": null,
            "height": null,
            "justify_content": null,
            "justify_items": null,
            "left": null,
            "margin": null,
            "max_height": null,
            "max_width": null,
            "min_height": null,
            "min_width": null,
            "object_fit": null,
            "object_position": null,
            "order": null,
            "overflow": null,
            "overflow_x": null,
            "overflow_y": null,
            "padding": null,
            "right": null,
            "top": null,
            "visibility": null,
            "width": null
          }
        },
        "645348d3b82c45d7b11208d47c3fa96d": {
          "model_module": "@jupyter-widgets/controls",
          "model_module_version": "1.5.0",
          "model_name": "TextareaModel",
          "state": {
            "_dom_classes": [],
            "_model_module": "@jupyter-widgets/controls",
            "_model_module_version": "1.5.0",
            "_model_name": "TextareaModel",
            "_view_count": null,
            "_view_module": "@jupyter-widgets/controls",
            "_view_module_version": "1.5.0",
            "_view_name": "TextareaView",
            "continuous_update": true,
            "description": "",
            "description_tooltip": null,
            "disabled": false,
            "layout": "IPY_MODEL_fbc9ddb81c5b47da86d533eeb650bf60",
            "placeholder": "Enter amino acid sequence here....",
            "rows": null,
            "style": "IPY_MODEL_203f0816c90e4027a3fe0caf0129e7ad",
            "value": "ASNFTQFVLVDNGGTGDVTVAPSNFANGVAEWISSNSRSQAYKVTCSVRQSSAQKRKYTIKVEVPKVATQTVGGVELPVAAWRSYLNMELTIPIFATNSDCELIVKAMQGLLKDGNPIPSAIAANSGLY"
          }
        },
        "691a562eaffd4bdca3ce89230e395e34": {
          "model_module": "@jupyter-widgets/controls",
          "model_module_version": "1.5.0",
          "model_name": "IntTextModel",
          "state": {
            "_dom_classes": [],
            "_model_module": "@jupyter-widgets/controls",
            "_model_module_version": "1.5.0",
            "_model_name": "IntTextModel",
            "_view_count": null,
            "_view_module": "@jupyter-widgets/controls",
            "_view_module_version": "1.5.0",
            "_view_name": "IntTextView",
            "continuous_update": false,
            "description": "Maximum number of polishing steps:",
            "description_tooltip": null,
            "disabled": false,
            "layout": "IPY_MODEL_1923f80e437246f48bd2778ce246c0e1",
            "step": 1,
            "style": "IPY_MODEL_0233870742d84dd890431ff40168c315",
            "value": 20
          }
        },
        "6ae81dcd7a434156b575723be7bd35a0": {
          "model_module": "@jupyter-widgets/base",
          "model_module_version": "1.2.0",
          "model_name": "LayoutModel",
          "state": {
            "_model_module": "@jupyter-widgets/base",
            "_model_module_version": "1.2.0",
            "_model_name": "LayoutModel",
            "_view_count": null,
            "_view_module": "@jupyter-widgets/base",
            "_view_module_version": "1.2.0",
            "_view_name": "LayoutView",
            "align_content": null,
            "align_items": null,
            "align_self": null,
            "border": null,
            "bottom": null,
            "display": null,
            "flex": null,
            "flex_flow": null,
            "grid_area": null,
            "grid_auto_columns": null,
            "grid_auto_flow": null,
            "grid_auto_rows": null,
            "grid_column": null,
            "grid_gap": null,
            "grid_row": null,
            "grid_template_areas": null,
            "grid_template_columns": null,
            "grid_template_rows": null,
            "height": null,
            "justify_content": null,
            "justify_items": null,
            "left": null,
            "margin": null,
            "max_height": null,
            "max_width": null,
            "min_height": null,
            "min_width": null,
            "object_fit": null,
            "object_position": null,
            "order": null,
            "overflow": null,
            "overflow_x": null,
            "overflow_y": null,
            "padding": null,
            "right": null,
            "top": null,
            "visibility": null,
            "width": null
          }
        },
        "6e399baada9041439b45f52ecc46579b": {
          "model_module": "@jupyter-widgets/controls",
          "model_module_version": "1.5.0",
          "model_name": "DescriptionStyleModel",
          "state": {
            "_model_module": "@jupyter-widgets/controls",
            "_model_module_version": "1.5.0",
            "_model_name": "DescriptionStyleModel",
            "_view_count": null,
            "_view_module": "@jupyter-widgets/base",
            "_view_module_version": "1.2.0",
            "_view_name": "StyleView",
            "description_width": ""
          }
        },
        "8182256a6d41487993e7a08e2846f359": {
          "model_module": "@jupyter-widgets/controls",
          "model_module_version": "1.5.0",
          "model_name": "DescriptionStyleModel",
          "state": {
            "_model_module": "@jupyter-widgets/controls",
            "_model_module_version": "1.5.0",
            "_model_name": "DescriptionStyleModel",
            "_view_count": null,
            "_view_module": "@jupyter-widgets/base",
            "_view_module_version": "1.2.0",
            "_view_name": "StyleView",
            "description_width": "initial"
          }
        },
        "81f4dee035c24985b5997f9f0f3c0752": {
          "model_module": "@jupyter-widgets/base",
          "model_module_version": "1.2.0",
          "model_name": "LayoutModel",
          "state": {
            "_model_module": "@jupyter-widgets/base",
            "_model_module_version": "1.2.0",
            "_model_name": "LayoutModel",
            "_view_count": null,
            "_view_module": "@jupyter-widgets/base",
            "_view_module_version": "1.2.0",
            "_view_name": "LayoutView",
            "align_content": null,
            "align_items": null,
            "align_self": null,
            "border": null,
            "bottom": null,
            "display": null,
            "flex": null,
            "flex_flow": null,
            "grid_area": null,
            "grid_auto_columns": null,
            "grid_auto_flow": null,
            "grid_auto_rows": null,
            "grid_column": null,
            "grid_gap": null,
            "grid_row": null,
            "grid_template_areas": null,
            "grid_template_columns": null,
            "grid_template_rows": null,
            "height": null,
            "justify_content": null,
            "justify_items": null,
            "left": null,
            "margin": null,
            "max_height": null,
            "max_width": null,
            "min_height": null,
            "min_width": null,
            "object_fit": null,
            "object_position": null,
            "order": null,
            "overflow": null,
            "overflow_x": null,
            "overflow_y": null,
            "padding": null,
            "right": null,
            "top": null,
            "visibility": null,
            "width": null
          }
        },
        "a856b2babb7e4ffda877135222f0c361": {
          "model_module": "@jupyter-widgets/controls",
          "model_module_version": "1.5.0",
          "model_name": "DropdownModel",
          "state": {
            "_dom_classes": [],
            "_model_module": "@jupyter-widgets/controls",
            "_model_module_version": "1.5.0",
            "_model_name": "DropdownModel",
            "_options_labels": [
              "cpu"
            ],
            "_view_count": null,
            "_view_module": "@jupyter-widgets/controls",
            "_view_module_version": "1.5.0",
            "_view_name": "DropdownView",
            "description": "Device:",
            "description_tooltip": null,
            "disabled": false,
            "index": 0,
            "layout": "IPY_MODEL_5b552af60f7f46ddbcb06297a2044a36",
            "style": "IPY_MODEL_48e726a3e4da45cb9e71cf538ac60e91"
          }
        },
        "bf7cc2672eb5405a998100bd7924311e": {
          "model_module": "@jupyter-widgets/controls",
          "model_module_version": "1.5.0",
          "model_name": "DescriptionStyleModel",
          "state": {
            "_model_module": "@jupyter-widgets/controls",
            "_model_module_version": "1.5.0",
            "_model_name": "DescriptionStyleModel",
            "_view_count": null,
            "_view_module": "@jupyter-widgets/base",
            "_view_module_version": "1.2.0",
            "_view_name": "StyleView",
            "description_width": "initial"
          }
        },
        "c53ffc68d1554cf7b224d0ec6d34964f": {
          "model_module": "@jupyter-widgets/controls",
          "model_module_version": "1.5.0",
          "model_name": "DescriptionStyleModel",
          "state": {
            "_model_module": "@jupyter-widgets/controls",
            "_model_module_version": "1.5.0",
            "_model_name": "DescriptionStyleModel",
            "_view_count": null,
            "_view_module": "@jupyter-widgets/base",
            "_view_module_version": "1.2.0",
            "_view_name": "StyleView",
            "description_width": "initial"
          }
        },
        "c657e2b7e0ae44778522889108eb5b32": {
          "model_module": "@jupyter-widgets/controls",
          "model_module_version": "1.5.0",
          "model_name": "CheckboxModel",
          "state": {
            "_dom_classes": [],
            "_model_module": "@jupyter-widgets/controls",
            "_model_module_version": "1.5.0",
            "_model_name": "CheckboxModel",
            "_view_count": null,
            "_view_module": "@jupyter-widgets/controls",
            "_view_module_version": "1.5.0",
            "_view_name": "CheckboxView",
            "description": "Show PCA?",
            "description_tooltip": null,
            "disabled": false,
            "indent": true,
            "layout": "IPY_MODEL_6ae81dcd7a434156b575723be7bd35a0",
            "style": "IPY_MODEL_8182256a6d41487993e7a08e2846f359",
            "value": true
          }
        },
        "e7c9d4c97b6b439d9bea2b79e0eccd81": {
          "model_module": "@jupyter-widgets/base",
          "model_module_version": "1.2.0",
          "model_name": "LayoutModel",
          "state": {
            "_model_module": "@jupyter-widgets/base",
            "_model_module_version": "1.2.0",
            "_model_name": "LayoutModel",
            "_view_count": null,
            "_view_module": "@jupyter-widgets/base",
            "_view_module_version": "1.2.0",
            "_view_name": "LayoutView",
            "align_content": null,
            "align_items": null,
            "align_self": null,
            "border": null,
            "bottom": null,
            "display": null,
            "flex": null,
            "flex_flow": null,
            "grid_area": null,
            "grid_auto_columns": null,
            "grid_auto_flow": null,
            "grid_auto_rows": null,
            "grid_column": null,
            "grid_gap": null,
            "grid_row": null,
            "grid_template_areas": null,
            "grid_template_columns": null,
            "grid_template_rows": null,
            "height": null,
            "justify_content": null,
            "justify_items": null,
            "left": null,
            "margin": null,
            "max_height": null,
            "max_width": null,
            "min_height": null,
            "min_width": null,
            "object_fit": null,
            "object_position": null,
            "order": null,
            "overflow": null,
            "overflow_x": null,
            "overflow_y": null,
            "padding": null,
            "right": null,
            "top": null,
            "visibility": null,
            "width": null
          }
        },
        "fa4d813b3f724ff4a25dfb3ccebf8e44": {
          "model_module": "@jupyter-widgets/base",
          "model_module_version": "1.2.0",
          "model_name": "LayoutModel",
          "state": {
            "_model_module": "@jupyter-widgets/base",
            "_model_module_version": "1.2.0",
            "_model_name": "LayoutModel",
            "_view_count": null,
            "_view_module": "@jupyter-widgets/base",
            "_view_module_version": "1.2.0",
            "_view_name": "LayoutView",
            "align_content": null,
            "align_items": null,
            "align_self": null,
            "border": null,
            "bottom": null,
            "display": null,
            "flex": null,
            "flex_flow": null,
            "grid_area": null,
            "grid_auto_columns": null,
            "grid_auto_flow": null,
            "grid_auto_rows": null,
            "grid_column": null,
            "grid_gap": null,
            "grid_row": null,
            "grid_template_areas": null,
            "grid_template_columns": null,
            "grid_template_rows": null,
            "height": null,
            "justify_content": null,
            "justify_items": null,
            "left": null,
            "margin": null,
            "max_height": null,
            "max_width": null,
            "min_height": null,
            "min_width": null,
            "object_fit": null,
            "object_position": null,
            "order": null,
            "overflow": null,
            "overflow_x": null,
            "overflow_y": null,
            "padding": null,
            "right": null,
            "top": null,
            "visibility": null,
            "width": null
          }
        },
        "fbc9ddb81c5b47da86d533eeb650bf60": {
          "model_module": "@jupyter-widgets/base",
          "model_module_version": "1.2.0",
          "model_name": "LayoutModel",
          "state": {
            "_model_module": "@jupyter-widgets/base",
            "_model_module_version": "1.2.0",
            "_model_name": "LayoutModel",
            "_view_count": null,
            "_view_module": "@jupyter-widgets/base",
            "_view_module_version": "1.2.0",
            "_view_name": "LayoutView",
            "align_content": null,
            "align_items": null,
            "align_self": null,
            "border": null,
            "bottom": null,
            "display": null,
            "flex": null,
            "flex_flow": null,
            "grid_area": null,
            "grid_auto_columns": null,
            "grid_auto_flow": null,
            "grid_auto_rows": null,
            "grid_column": null,
            "grid_gap": null,
            "grid_row": null,
            "grid_template_areas": null,
            "grid_template_columns": null,
            "grid_template_rows": null,
            "height": "1in",
            "justify_content": null,
            "justify_items": null,
            "left": null,
            "margin": null,
            "max_height": null,
            "max_width": null,
            "min_height": null,
            "min_width": null,
            "object_fit": null,
            "object_position": null,
            "order": null,
            "overflow": null,
            "overflow_x": null,
            "overflow_y": null,
            "padding": null,
            "right": null,
            "top": null,
            "visibility": null,
            "width": "80%"
          }
        }
      }
    }
  },
  "nbformat": 4,
  "nbformat_minor": 0
}
