{
 "cells": [
  {
   "cell_type": "markdown",
   "metadata": {},
   "source": [
    "# RemoveCysteines: Use ESM2 to remove cysteines from protein sequences\n",
    "<a href=\"https://colab.research.google.com/github/ckinzthompson/removecysteines/blob/main/docs/removecysteines_notebook.ipynb\" target=\"_parent\"><img src=\"https://colab.research.google.com/assets/colab-badge.svg\" alt=\"Open In Colab\"/></a>\n",
    "\n",
    "[Evolutionary Scale Modeling (ESM)](https://github.com/facebookresearch/esm) is a masked-large language model trained on protein sequences. The science is described in [Lin et al.](https://www.science.org/doi/10.1126/science.ade2574). Because ESM has information containing sequence conservation, we've used it here to design cys-less variants of proteins that should (ideally) maintain function. Previously, researchers would manually create a multiple sequence alignment showing the conservation of the cysteines in the wild type sequence, and then pick other amino acids that are represented at those positions.\n",
    "\n",
    "Our approach using ESM uses the following steps:\n",
    "1. Find the second-best mutation to make (i.e., whichever 'looks' most like a cysteine)\n",
    "2. Make all possible point mutations, and select the best (i.e., whichever makes the entire sequence look most like a real protein)\n",
    "3. Repeat step 2 until the sequence is optimized.\n"
   ]
  },
  {
   "cell_type": "code",
   "execution_count": null,
   "metadata": {},
   "outputs": [],
   "source": [
    "#@title Run this cell to initialize the interface\n",
    "try:\n",
    "\timport removecysteines\n",
    "except:\n",
    "\timport os\n",
    "\tos.system('pip install git+https://github.com/ckinzthompson/removecysteines.git')\n",
    "\timport removecysteines\n",
    "\n",
    "removecysteines.gui()"
   ]
  }
 ],
 "metadata": {
  "kernelspec": {
   "display_name": "keras",
   "language": "python",
   "name": "python3"
  },
  "language_info": {
   "codemirror_mode": {
    "name": "ipython",
    "version": 3
   },
   "file_extension": ".py",
   "mimetype": "text/x-python",
   "name": "python",
   "nbconvert_exporter": "python",
   "pygments_lexer": "ipython3",
   "version": "3.9.0"
  }
 },
 "nbformat": 4,
 "nbformat_minor": 2
}
